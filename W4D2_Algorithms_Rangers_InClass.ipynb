{
 "cells": [
  {
   "cell_type": "markdown",
   "metadata": {},
   "source": [
    "# Algorithms and Time Complexity"
   ]
  },
  {
   "cell_type": "markdown",
   "metadata": {},
   "source": [
    "## Tasks Today:\n",
    " \n",
    "1) <b>In-Place Algorithms</b> <br>\n",
    " &nbsp;&nbsp;&nbsp;&nbsp; a) Syntax <br>\n",
    " &nbsp;&nbsp;&nbsp;&nbsp; a) Out of Place Algorithm <br>\n",
    " &nbsp;&nbsp;&nbsp;&nbsp; b) In-Class Exercise #1 <br>\n",
    "2) <b>Two Pointers</b> <br>\n",
    "3) <b>Merge Sort</b> <br>\n",
    " &nbsp;&nbsp;&nbsp;&nbsp; a) Video on Algorithms <br>\n",
    " &nbsp;&nbsp;&nbsp;&nbsp; b) How it Works <br>\n",
    "4) <b>Binary Search</b> <br>\n",
    "5) <b>Exercises</b> <br>\n",
    " &nbsp;&nbsp;&nbsp;&nbsp; a) Exercise #1 - Reverse a List in Place Using an In-Place Algorithm <br>\n",
    " &nbsp;&nbsp;&nbsp;&nbsp; b) Exercise #2 - Find Distinct Words <br>\n",
    " &nbsp;&nbsp;&nbsp;&nbsp; c) Exercise #3 - Write a program to implement a Linear Search Algorithm. <br>"
   ]
  },
  {
   "cell_type": "markdown",
   "metadata": {},
   "source": [
    "## In-Place Algorithms"
   ]
  },
  {
   "cell_type": "markdown",
   "metadata": {},
   "source": [
    "#### Syntax"
   ]
  },
  {
   "cell_type": "code",
   "execution_count": null,
   "metadata": {},
   "outputs": [],
   "source": [
    "#swap locations by index in a list\n",
    "#sometimes known as a swap algorithm\n",
    "# arr[i], arr[i+1] = arr[i+1], arr[i]\n",
    "# item 0   item 1      item 1   item 0  they swap\n",
    "#         list  ind1  ind2  ind3 \n",
    "def swap(alist, x, y, z): #indexes. \n",
    "    alist[x], alist[z], alist[y] = alist[z], alist[y], alist[x]\n",
    "    return alist\n",
    "\n",
    "my_list = [20,4,10]\n",
    "\n",
    "print(f'Before swap: {my_list}')\n",
    "swap(my_list, 0, 1, 2,) #alist becomes my_list, parameters: x becomes 0, y becomes 1, z becomes 2\n",
    "print(f'After swap: {my_list}')\n",
    "\n"
   ]
  },
  {
   "cell_type": "markdown",
   "metadata": {},
   "source": [
    "#### Out of Place Algorithm"
   ]
  },
  {
   "cell_type": "code",
   "execution_count": null,
   "metadata": {},
   "outputs": [],
   "source": [
    "# not swapping, reversing the list\n",
    "# But also copies to another place in memory\n",
    "my_list = [20, 4, 10]\n",
    "my_list_copy = list(reversed(my_list))\n",
    "\n",
    "print(my_list_copy)\n",
    "\n",
    "my_list_copy = my_list[::-1]\n",
    "print(my_list_copy)\n",
    "\n",
    "\n",
    "array = [\"a\", \"b\", \"c\", \"d\"]\n",
    "\n",
    "new_arr = ['a']* len(array)\n",
    "print(new_arr)\n",
    "\n",
    "print(f\"Before: {array}\")\n",
    "length = len(array) - 1\n",
    "\n",
    "for i in range(length):\n",
    "    new_arr[i] = array[length-i]\n",
    "\n",
    "array = new_arr\n",
    "\n",
    "print(f'After: {array}')\n"
   ]
  },
  {
   "cell_type": "markdown",
   "metadata": {},
   "source": [
    "#### In-Class Exercise #1 <br>\n",
    "<p>Write a function that takes in four arguments (list, index1, index2, index3), and swaps those three positions in the list passed in.</p>"
   ]
  },
  {
   "cell_type": "code",
   "execution_count": null,
   "metadata": {},
   "outputs": [],
   "source": [
    "def swap(blist, Ben, Kym, Miguel):\n",
    "    clist[Ben], blist[Kym], blist[Miguel] = blist[Kym], blist[Miguel], blist[Ben]\n",
    "    return blist\n",
    "\n",
    "clist = [\"pirate\", \"bunny\", \"ninja\"]\n",
    "\n",
    "print(f'Before {clist}')\n",
    "swap(clist, 0, 1, 2)\n",
    "print(f'After: {clist}')"
   ]
  },
  {
   "cell_type": "markdown",
   "metadata": {},
   "source": [
    "## Two Pointers"
   ]
  },
  {
   "cell_type": "markdown",
   "metadata": {},
   "source": [
    "#### Syntax"
   ]
  },
  {
   "cell_type": "code",
   "execution_count": null,
   "metadata": {},
   "outputs": [],
   "source": [
    "# alist[left], alist[right] = alist[right], alist[left]\n",
    "# use two pointesr to swap, can use a while loop in most cases\n",
    "# the list must be sorted\n",
    "#using pointers to reverse a list with while swapping. \n",
    "def two_pointers(alist):\n",
    "     #   alist.sort() if you need to sort a list, it will \n",
    "    left = 0 #why 0? Because python reads from left to right starting index.\n",
    "    right = len(alist) -1  #why -1? farthest index. \n",
    "    while left <= right: # don't want left going in the right\n",
    "        alist[left], alist[right] = alist[right], alist[left]\n",
    "        left += 1\n",
    "        right -= 1\n",
    "    return alist\n",
    "\n",
    "my_list = [1,2,3,4,8,9,10,11,12,22]\n",
    "print(f'Before pointer reverse: {my_list}')\n",
    "two_pointers(my_list)\n",
    "print(f'After pointer reverseL {my_list}')\n",
    "        \n",
    "     \n",
    "\n"
   ]
  },
  {
   "cell_type": "markdown",
   "metadata": {},
   "source": [
    "#### Video of Algorithms <br>\n",
    "<p>Watch the video about algorithms.</p>\n",
    "\n",
    "https://www.youtube.com/watch?v=Q9HjeFD62Uk\n",
    "\n",
    "https://www.youtube.com/watch?v=kPRA0W1kECg\n",
    "\n",
    "https://www.youtube.com/watch?v=ZZuD6iUe3Pc"
   ]
  },
  {
   "cell_type": "markdown",
   "metadata": {},
   "source": [
    "# Sorting Algorithms"
   ]
  },
  {
   "cell_type": "code",
   "execution_count": null,
   "metadata": {},
   "outputs": [],
   "source": [
    "# Time complexity\n",
    "# how many actions have to happen per items it takes as inputs\n"
   ]
  },
  {
   "cell_type": "markdown",
   "metadata": {},
   "source": [
    "#### Bubble Sort\n",
    "\n",
    "Worst Case: O(n^2) Time - O(1) Space"
   ]
  },
  {
   "cell_type": "code",
   "execution_count": null,
   "metadata": {},
   "outputs": [],
   "source": [
    "# Best Case Linear\n",
    "# Worst Case Quadratic\n",
    "#moves the right \n",
    "\n",
    "my_array = [100, 88, 22, 55, 44, 1, 34, 66]\n",
    "\n",
    "#helper function: Assists another function with its goal\n",
    "def swap(i,j,array): \n",
    "    array[i], array[j] = array[j], array[i]\n",
    "\n",
    "def bubble_sort(array):\n",
    "    is_sorted = False #<=== our flag\n",
    "    while not is_sorted:\n",
    "        is_sorted = True\n",
    "        for i in range(len(array)-1):\n",
    "            if array[i] > array[i +1]:\n",
    "                swap(i, i + 1, array)\n",
    "                is_sorted = False\n",
    "    return array\n",
    "my_array = [100, 88, 22, 55, 44, 1, 34, 66]\n",
    "bubble_sort(my_array)\n",
    "\n",
    "        \n"
   ]
  },
  {
   "cell_type": "markdown",
   "metadata": {},
   "source": [
    "##### Insertion Sort\n",
    "\n",
    "Worst Case: O(n^2) time - O(1)space"
   ]
  },
  {
   "cell_type": "code",
   "execution_count": null,
   "metadata": {},
   "outputs": [],
   "source": [
    "#moves the smallest integer to the left \n",
    "def swap(i,j,array): \n",
    "    array[i], array[j] = array[j], array[i]\n",
    "\n",
    "def insertion_sort(array):\n",
    "    for i in range(1,len(array)): #starts at 1 because 0 is considered sorted\n",
    "        j = i\n",
    "        while j > 0 and array[j] < array [j-1]:\n",
    "            swap (j, j-1, array)\n",
    "            j -= 1\n",
    "    return array\n",
    "insertion_sort([100, 88, 22, 55, 44, 1, 34, 66])\n",
    "            "
   ]
  },
  {
   "cell_type": "markdown",
   "metadata": {},
   "source": [
    "## Merge Sort"
   ]
  },
  {
   "cell_type": "markdown",
   "metadata": {},
   "source": [
    "#### How it Works"
   ]
  },
  {
   "cell_type": "code",
   "execution_count": null,
   "metadata": {},
   "outputs": [],
   "source": [
    "# Step 1: Split Everything into its own group\n",
    "# Step 2: From left to right merge two groups together\n",
    "# STep 3: While merging, place each item in its correct position within the merged group\n",
    "# Step 4: Repeat step 3 until one group is left\n",
    "\n",
    "my_array = [100, 88, 22, 55, 44, 1, 34, 66]\n",
    "\n",
    "# def merge_sort(alist):\n",
    "#-----------------------------------------------step 1: Dividing the array to equal parts\n",
    "\n",
    "    # if len(alist) > 1:\n",
    "    #     mid = len(alist) // 2\n",
    "    #     left_half = alist[:mid]\n",
    "    #     right_half = alist[mid:]\n",
    "\n",
    "#----------------------------------------------Recursively call merge_sort to perform spilts if needed\n",
    "#----------------------------------------------then merge once we're done splitting\n",
    "        # merge_sort(left_half)\n",
    "        # merge_sort(right_half)\n",
    "#---------------------------------------------index pointers for our list\n",
    "        # l = 0 #left half\n",
    "        # r = 0 #right half\n",
    "        # m = 0 #mpointer for the main array\n",
    "\n",
    "#---------------------------------------------step 2: compare left_half and right_half\n",
    "        # while l < len(left_half) and r < len(right_half):\n",
    "        #     if left_half[l] < right_half[r]:\n",
    "        #         alist[m] = left_half[l]\n",
    "        #         l += 1\n",
    "        #     else:\n",
    "        #         alist[m] = right_half[r]\n",
    "        #         r += 1\n",
    "        #     m += 1\n",
    "\n",
    "#----------------------------------------------step 3: while merging, place items in correct position\n",
    "\n",
    "#         while l < len(left_half):\n",
    "#             alist[m] = alist[l]\n",
    "#             l += 1\n",
    "#             m += 1\n",
    "#         while r < len(right_half):\n",
    "#             alist[m] = right_half[r]\n",
    "#             r += 1\n",
    "#             m += 1\n",
    "\n",
    "#     return alist\n",
    "\n",
    "# merge_sort(my_array)\n",
    "\n",
    "my_array = [100, 88, 22, 55, 44, 1, 34, 66]\n",
    "\n",
    "def mergeSort(alist):\n",
    "    \n",
    "#     step1: dividing the array into equal parts (as much as we can)\n",
    "    if len(alist) > 1:\n",
    "        mid = len(alist) // 2\n",
    "        lefthalf = alist[:mid]\n",
    "        righthalf = alist[mid:]\n",
    "        \n",
    "#         recursively call mergeSort to perform splits if needed\n",
    "#         then merge once we're done splitting\n",
    "        mergeSort(lefthalf)\n",
    "        mergeSort(righthalf)\n",
    "        \n",
    "#         index pointers for our list\n",
    "        l = 0 #left half\n",
    "        r = 0 # right half\n",
    "        m = 0 #pointer for the main array\n",
    "        \n",
    "        # step 2 compare lefthalf and righthalf\n",
    "        while l < len(lefthalf) and r < len(righthalf):\n",
    "            if lefthalf[l] < righthalf[r]:\n",
    "                alist[m] = lefthalf[l]\n",
    "                l += 1\n",
    "            else: \n",
    "                alist[m] = righthalf[r]\n",
    "                r += 1\n",
    "            m += 1\n",
    "            \n",
    "        # step 3: while merging, place items in correct position\n",
    "        while l < len(lefthalf):\n",
    "            alist[m] = lefthalf[l]\n",
    "            l += 1\n",
    "            m += 1\n",
    "        while r < len(righthalf):\n",
    "            alist[m] = righthalf[r]\n",
    "            r += 1\n",
    "            m += 1\n",
    "            \n",
    "    return alist\n",
    "\n",
    "mergeSort(my_array)\n",
    "\n",
    "\n",
    "\n",
    "    \n",
    "\n",
    "        "
   ]
  },
  {
   "cell_type": "markdown",
   "metadata": {},
   "source": [
    "# Binary Search\n",
    "\n",
    "The Binary Search algorithm works by finding the number in the middle of a given array and comparing it to the target. Given that the array is sorted\n",
    "\n",
    "* The worst case run time for this algorithm is `O(log(n))`"
   ]
  },
  {
   "cell_type": "code",
   "execution_count": null,
   "metadata": {},
   "outputs": [],
   "source": [
    "# Less goes to the left\n",
    "# Greater goes to the right\n",
    "# List of numbers must be sorted\n",
    "def binary_search(array, target):\n",
    "    left = 0 \n",
    "    right = len(array) - 1\n",
    "\n",
    "    while left <= right:\n",
    "        middle = (left + right) // 2\n",
    "        potential_match = array[middle]\n",
    "        if target == potential_match:\n",
    "            return f'The index is....{middle}'\n",
    "        elif target < potential_match:\n",
    "            right = middle - 1\n",
    "        else:\n",
    "            left = middle + 1 \n",
    "    return -1\n",
    "\n",
    "binary_search([1, 22, 34, 44, 55, 66, 88, 100], 22)\n",
    "    "
   ]
  },
  {
   "cell_type": "markdown",
   "metadata": {},
   "source": [
    "# Exercises"
   ]
  },
  {
   "cell_type": "markdown",
   "metadata": {},
   "source": [
    "### Exercise #1 <br>\n",
    "<p>Reverse the list below in-place using an in-place algorithm.<br>For extra credit: Reverse the strings at the same time.</p>"
   ]
  },
  {
   "cell_type": "code",
   "execution_count": 10,
   "metadata": {},
   "outputs": [
    {
     "name": "stdout",
     "output_type": "stream",
     "text": [
      "['.', 'sentence', 'a', 'is', 'this']\n"
     ]
    }
   ],
   "source": [
    "words = ['this', 'is', 'a', 'sentence', '.']\n",
    "\n",
    "\n",
    "#create a function:\n",
    "def swap(list, i, j):\n",
    "    list[i], list[j] = list[j], list[i]\n",
    "\n",
    "words = ['this', 'is', 'a', 'sentence', '.']\n",
    "length = len(words)\n",
    "\n",
    "for i in range(length // 2): \n",
    "    swap(words, i, length - 1 - i)\n",
    "    \n",
    "print(words)\n",
    "\n",
    "\n",
    "\n"
   ]
  },
  {
   "cell_type": "markdown",
   "metadata": {},
   "source": [
    "### Exercise #2 <br>\n",
    "<p>Create a function that counts how many distinct words are in the string below, then outputs a dictionary with the words as the key and the value as the amount of times that word appears in the string.<br>Should output:<br>{'a': 5,<br>\n",
    " 'abstract': 1,<br>\n",
    " 'an': 3,<br>\n",
    " 'array': 2, ... etc...</p>"
   ]
  },
  {
   "cell_type": "code",
   "execution_count": 4,
   "metadata": {},
   "outputs": [
    {
     "name": "stdout",
     "output_type": "stream",
     "text": [
      "{'In': 1, 'computing,': 1, 'a': 4, 'hash': 4, 'table': 2, 'map': 2, 'is': 1, 'data': 2, 'structure': 2, 'which': 2, 'implements': 1, 'an': 3, 'associative': 1, 'array': 2, 'abstract': 1, 'type,': 1, 'that': 1, 'can': 2, 'keys': 1, 'to': 2, 'values.': 1, 'A': 1, 'uses': 1, 'function': 1, 'compute': 1, 'index': 1, 'into': 1, 'of': 1, 'buckets': 1, 'or': 1, 'slots': 1, 'from': 1, 'the': 1, 'desired': 1, 'value': 1, 'be': 1, 'found': 1}\n"
     ]
    }
   ],
   "source": [
    "# a_text = 'In computing, a hash table hash map is a data structure which implements an associative array abstract data type, a structure that can map keys to values. A hash table uses a hash function to compute an index into an array of buckets or slots from which the desired value can be found'\n",
    "#create a function\n",
    "#counts how many distincts words \n",
    "#outputs {'k','y'} use a dict. \n",
    "\n",
    "\n",
    "def blah(word):\n",
    "    \n",
    "    count_words = {}\n",
    "    words = word.split()\n",
    "\n",
    "    for i in words:\n",
    "        if i in count_words:\n",
    "            count_words[i] += 1\n",
    "        else: \n",
    "            count_words[i] = 1\n",
    "\n",
    "    return count_words\n",
    "a_text = 'In computing, a hash table hash map is a data structure which implements an associative array abstract data type, a structure that can map keys to values. A hash table uses a hash function to compute an index into an array of buckets or slots from which the desired value can be found'\n",
    "\n",
    "test = blah(a_text)\n",
    "print(test)\n",
    "    \n"
   ]
  },
  {
   "cell_type": "markdown",
   "metadata": {},
   "source": [
    "## Exercise #3\n",
    "\n",
    "<p>Use binary search to return the index of the target num</p>\n",
    "\n"
   ]
  },
  {
   "cell_type": "code",
   "execution_count": 13,
   "metadata": {},
   "outputs": [
    {
     "data": {
      "text/plain": [
       "'The index is....7'"
      ]
     },
     "execution_count": 13,
     "metadata": {},
     "output_type": "execute_result"
    }
   ],
   "source": [
    "cool_list = [2, 5, 6, 12, 45, 47, 98, 123, 1000]\n",
    "target = 123\n",
    "\n",
    "def binary_search(array, target):\n",
    "    left = 0 \n",
    "    right = len(array) - 1\n",
    "\n",
    "    while left <= right:\n",
    "        middle = (left + right) // 2\n",
    "        potential_match = array[middle]\n",
    "        if target == potential_match:\n",
    "            return f'The index is....{middle}'\n",
    "        elif target < potential_match:\n",
    "            right = middle - 1\n",
    "        else:\n",
    "            left = middle + 1 \n",
    "    return -1\n",
    "\n",
    "binary_search([2, 5, 6, 12, 45, 47, 98, 123, 1000], 123)"
   ]
  },
  {
   "cell_type": "code",
   "execution_count": null,
   "metadata": {},
   "outputs": [],
   "source": []
  }
 ],
 "metadata": {
  "kernelspec": {
   "display_name": "Python 3 (ipykernel)",
   "language": "python",
   "name": "python3"
  },
  "language_info": {
   "codemirror_mode": {
    "name": "ipython",
    "version": 3
   },
   "file_extension": ".py",
   "mimetype": "text/x-python",
   "name": "python",
   "nbconvert_exporter": "python",
   "pygments_lexer": "ipython3",
   "version": "3.11.5"
  }
 },
 "nbformat": 4,
 "nbformat_minor": 4
}
